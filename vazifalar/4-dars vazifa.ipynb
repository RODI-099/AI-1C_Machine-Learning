{
 "cells": [
  {
   "cell_type": "markdown",
   "id": "33f0d98f",
   "metadata": {},
   "source": [
    "#Musbat yoki manfiy son"
   ]
  },
  {
   "cell_type": "code",
   "execution_count": null,
   "id": "b0bab6de",
   "metadata": {},
   "outputs": [],
   "source": [
    "x = -5\n",
    "natija = \"Musbat\" if x > 0 else \"Manfiy yoki nol\"\n",
    "print(natija)\n"
   ]
  },
  {
   "cell_type": "markdown",
   "id": "03fa3355",
   "metadata": {},
   "source": [
    "#Juft yoki toq"
   ]
  },
  {
   "cell_type": "code",
   "execution_count": null,
   "id": "3c2b7b05",
   "metadata": {},
   "outputs": [],
   "source": [
    "son = 8\n",
    "javob = \"Juft\" if son % 2 == 0 else \"Toq\"\n",
    "print(javob)\n"
   ]
  },
  {
   "cell_type": "markdown",
   "id": "114befac",
   "metadata": {},
   "source": [
    "#Katta sonni aniqlash"
   ]
  },
  {
   "cell_type": "code",
   "execution_count": null,
   "id": "a0147901",
   "metadata": {},
   "outputs": [],
   "source": [
    "a = 12\n",
    "b = 25\n",
    "katta = a if a > b else b\n",
    "print(\"Katta son:\", katta)\n"
   ]
  },
  {
   "cell_type": "markdown",
   "id": "c672899d",
   "metadata": {},
   "source": [
    "#yoshiga qarab kategoriya"
   ]
  },
  {
   "cell_type": "code",
   "execution_count": null,
   "id": "16693017",
   "metadata": {},
   "outputs": [],
   "source": [
    "yosh = 17\n",
    "kategoriya = \"Katta\" if yosh >= 18 else \"Yosh\"\n",
    "print(kategoriya)\n"
   ]
  },
  {
   "cell_type": "markdown",
   "id": "e5681478",
   "metadata": {},
   "source": [
    "#Uchta son ichida eng kichigini topish (ternary ichida ternary)"
   ]
  },
  {
   "cell_type": "code",
   "execution_count": null,
   "id": "c8e48caf",
   "metadata": {},
   "outputs": [],
   "source": [
    "a, b, c = 12, 5, 8\n",
    "kichik = a if a < b and a < c else (b if b < c else c)\n",
    "print(\"Eng kichik son:\", kichik)\n"
   ]
  },
  {
   "cell_type": "code",
   "execution_count": null,
   "id": "1659b0f1",
   "metadata": {},
   "outputs": [],
   "source": []
  }
 ],
 "metadata": {
  "kernelspec": {
   "display_name": "Python 3",
   "language": "python",
   "name": "python3"
  },
  "language_info": {
   "codemirror_mode": {
    "name": "ipython",
    "version": 3
   },
   "file_extension": ".py",
   "mimetype": "text/x-python",
   "name": "python",
   "nbconvert_exporter": "python",
   "pygments_lexer": "ipython3",
   "version": "3.9.6"
  }
 },
 "nbformat": 4,
 "nbformat_minor": 5
}
