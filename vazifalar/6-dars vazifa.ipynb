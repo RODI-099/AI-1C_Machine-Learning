{
 "cells": [
  {
   "cell_type": "markdown",
   "id": "04b74563",
   "metadata": {},
   "source": [
    "6-dars Imtixon Savollari va Javoblari\n",
    "1. AI va ML nima va ularning qanday farqi bor?\n",
    "AI (Sun’iy intellekt) — kompyuterlar odamlar kabi fikrlashi, o‘rganishi va qaror qabul qilishi mumkin bo‘lgan tizimlar.ML (Mashinali o‘rganish) — AI’ning bir qismi bo‘lib, kompyuterlar tajriba orqali o‘zlarini yaxshilashi.\n",
    "2. Data qanday bo‘lishi kerak va biz qanday turdagi datasetlardan foydalanamiz?\n",
    "Data toza, aniq va strukturaviy bo‘lishi kerak. Datasetlar: strukturaviy (jadval), yarim-strukturaviy (JSON, XML), va nonstrukturaviy (rasmlar, audio).\n",
    "3. Qanday qilib MLni turlarga ajratamiz va uning qanday turlari bor?\n",
    "ML 3 turga bo‘linadi:- Supervised Learning- Unsupervised Learning- Reinforcement Learning\n",
    "4. Regression ML nima? Uning Classificationdan farqi?\n",
    "Regression – natija doimiy son (masalan, uy narxi).Classification – natija kategoriya (masalan, email – spam yoki emas).\n",
    "5. Classification qanday turlarga bo‘linadi? Misollar bilan:\n",
    "- Binary Classification: ijobiy yoki salbiy- Multi-class: olma, banan, gilos- Multi-label: suratda it ham, mushuk ham\n",
    "6. ML model ketma-ketligi:\n",
    "1. Data yig‘ish2. Tozalash3. Train/testga bo‘lish4. Model tanlash5. Trening6. Baholash7. Optimallashtirish8. Foydalanish\n",
    "7. Data Preprocessing nima? Nimalardan tashkil topgan?\n",
    "Ma’lumotlarni model uchun tayyorlash. Jarayonlar: tozalash, encoding, normalization, missing valuesni to‘ldirish.\n",
    "8. Tushurib qoldirilgan qiymatlarni nima uchun to‘ldirishimiz kerak?\n",
    "To‘liq bo‘lmagan data modelni yomon o‘qitadi, natijaga salbiy ta’sir qiladi.\n",
    "9. Tushurib qoldirilgan qiymatlarni hal etish usullari:\n",
    "Drop, Mean, Median, Mode, Fixed\n",
    "10. Classification turlari va farqlari:\n",
    "Javobi 5-savolda berilgan (Binary, Multi-class, Multi-label).\n",
    "10.1 Qanday kutubxonalar mavjud va ularning vazifalari?\n",
    "Pandas – data bilan ishlashNumpy – hisob-kitoblarMatplotlib/Seaborn – grafikalarScikit-learn – MLTensorFlow – Deep Learning\n",
    "11. Qaysi kod orqali matplotlibda chizmani ekranga chiqaramiz?\n",
    "import matplotlib.pyplot as pltplt.plot([1,2,3],[4,5,6])plt.show()\n",
    "12.1 Encoding nima va uni qanday turlari bor?\n",
    "Categoriyalarni sonlarga aylantirish:- Label Encoding- One-Hot Encoding\n",
    "12. Cardinality nima? Kursimizda nima uchun kerak?\n",
    "Cardinality – ustundagi noyob qiymatlar soni. Yuqori cardinality modelga zarar yetkazishi mumkin.\n",
    "13. f-string nima? Nima uchun ishlatamiz?\n",
    "Python string formatlash: name = 'Ali'; print(f'Salom, {name}')\n",
    "14. Condition nima? Uning ML dagi vazifasi?\n",
    "Shart operatorlari (if, else) — filtering, preprocessingda ishlatiladi.\n",
    "15. ‘Hello’ so‘zidagi oxirdan ikkinchi va uchinchi harfni tekshirish:\n",
    "s = 'Hello'print(s[-2] == s[-3])\n",
    "16. Qanday qilib data haqida umumiy ma’lumot olishimiz mumkin?\n",
    "data.info(), data.describe() – ustunlar soni, turlari, null qiymatlar\n",
    "17. Qaysi kutubxonalar yordamida vizual ko‘rinishlar hosil qilamiz?\n",
    "Matplotlib, Seaborn, Plotly\n",
    "18. Data Preprocessing nima va qanday qismlardan iborat?\n",
    "Tozalash, encoding, scaling, missing valuesni to‘ldirish\n",
    "19. Data Preprocessingning 1-bo‘limida nimalar o‘rganamiz?\n",
    "Null values, kodlash, normalizatsiya\n",
    "20–25. Tushurib qoldirilgan datalarni qanday usullarda to‘ldiramiz:\n",
    "- Drop: data.dropna()- Mean: data.fillna(data.mean())- Mode: data.fillna(data.mode().iloc[0])- Median: data.fillna(data.median())- Fixed: data.fillna(0)"
   ]
  }
 ],
 "metadata": {
  "language_info": {
   "name": "python"
  }
 },
 "nbformat": 4,
 "nbformat_minor": 5
}
