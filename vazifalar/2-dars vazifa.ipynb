{
 "cells": [
  {
   "cell_type": "markdown",
   "id": "468b3c1f",
   "metadata": {},
   "source": [
    "#Berilgan son musbat toq/ manfiy juft ekanini booleanda tekshiring!"
   ]
  },
  {
   "cell_type": "code",
   "execution_count": null,
   "id": "27707903",
   "metadata": {},
   "outputs": [],
   "source": [
    "son = int(input(\"4\"))\n",
    "natija = (son > 0 and son % 2 == 1) or (son < 0 and son % 2 == 0)\n",
    "print(\"Natija:\", natija)\n"
   ]
  },
  {
   "cell_type": "markdown",
   "id": "ba31653c",
   "metadata": {},
   "source": [
    "#Berilgan ikki xonali sonni raqamlarini yig'indisini toping"
   ]
  },
  {
   "cell_type": "code",
   "execution_count": null,
   "id": "8d012d5d",
   "metadata": {},
   "outputs": [],
   "source": [
    "son = int(input(\"44\"))\n",
    "raqamlar_yigindisi = son // 10 + son % 10\n",
    "print(\"Yig'indi:\", raqamlar_yigindisi)\n"
   ]
  },
  {
   "cell_type": "markdown",
   "id": "490de515",
   "metadata": {},
   "source": [
    "#Berilgan 3 xonali sonni raqamlar yig'indisini toping"
   ]
  },
  {
   "cell_type": "code",
   "execution_count": null,
   "id": "65b0f8cd",
   "metadata": {},
   "outputs": [],
   "source": [
    "son = int(input(\"456 \"))\n",
    "yigindi = son // 100 + (son // 10) % 10 + son % 10\n",
    "print(\"Yig'indi:\", yigindi)\n"
   ]
  },
  {
   "cell_type": "markdown",
   "id": "9c381342",
   "metadata": {},
   "source": [
    "Berilgan 3 xonali sonni teskari tartibda yozilganini toping(Masalan:123->321)"
   ]
  },
  {
   "cell_type": "code",
   "execution_count": null,
   "id": "8af1cfb6",
   "metadata": {},
   "outputs": [],
   "source": [
    "son = int(input(\"342\"))\n",
    "teskari = int(str(son)[::-1])\n",
    "print(\"Teskari:\", teskari)\n",
    "\n"
   ]
  },
  {
   "cell_type": "markdown",
   "id": "4d63c8c7",
   "metadata": {},
   "source": [
    "#Berilgan sozdagi xarflar soni juft bolsa juft so'zli deb aks xolda toq so'zli deb umuman xarflardan iborat bolmasa xatolik bor deb ekranga chiqaring"
   ]
  },
  {
   "cell_type": "code",
   "execution_count": null,
   "id": "11f1cf8c",
   "metadata": {},
   "outputs": [],
   "source": [
    "soz = input(\"maktab\")\n",
    "uzunlik = len(soz)\n",
    "\n",
    "if uzunlik == 0:\n",
    "    print(\"Xatolik bor\")\n",
    "elif uzunlik % 2 == 0:\n",
    "    print(\"Juft so'zli\")\n",
    "else:\n",
    "    print(\"Toq so'zli\")\n"
   ]
  },
  {
   "cell_type": "markdown",
   "id": "27c6beda",
   "metadata": {},
   "source": [
    "#Berilgan sonni 10 va 50 oraligida ekanligini tekshiring"
   ]
  },
  {
   "cell_type": "code",
   "execution_count": null,
   "id": "9e3c0eb8",
   "metadata": {},
   "outputs": [],
   "source": [
    "son = int(input(\"24\"))\n",
    "natija = 10 < son < 50\n",
    "print(\"Oraliqda:\", natija)\n"
   ]
  },
  {
   "cell_type": "markdown",
   "id": "f22e536e",
   "metadata": {},
   "source": [
    "#Berilgan sonni 10 va 50 oraligida ekanligini tekshiring va agar shunda bolsa togri aks xolda xato deb ekranga chiqaring"
   ]
  },
  {
   "cell_type": "code",
   "execution_count": null,
   "id": "1270e85d",
   "metadata": {},
   "outputs": [],
   "source": [
    "son = int(input(\"34\"))\n",
    "if 10 < son < 50:\n",
    "    print(\"To'g'ri\")\n",
    "else:\n",
    "    print(\"Xato\")\n"
   ]
  },
  {
   "cell_type": "markdown",
   "id": "4860c61a",
   "metadata": {},
   "source": [
    "#Agar parol 8 tadan kam belgi/sonlardan iborat bolsa kuchsiz aks xolda kuchli parol deb ekranga chiqaring"
   ]
  },
  {
   "cell_type": "code",
   "execution_count": null,
   "id": "8424fd54",
   "metadata": {},
   "outputs": [],
   "source": [
    "parol = input(\"4990032\")\n",
    "if len(parol) < 8:\n",
    "    print(\"Kuchsiz parol\")\n",
    "else:\n",
    "    print(\"Kuchli parol\")\n"
   ]
  },
  {
   "cell_type": "markdown",
   "id": "f6c24953",
   "metadata": {},
   "source": [
    "#Berilgan 3 ta sondan eng kattasini/kichigini/o'rtachasini aniqlaydigan kod yozing"
   ]
  },
  {
   "cell_type": "code",
   "execution_count": null,
   "id": "a3e68bba",
   "metadata": {},
   "outputs": [],
   "source": [
    "a = int(input(\"55\"))\n",
    "b = int(input(\"32\"))\n",
    "c = int(input(\"12\"))\n",
    "\n",
    "eng_katta = max(a, b, c)\n",
    "eng_kichik = min(a, b, c)\n",
    "ortacha = a + b + c - eng_katta - eng_kichik\n",
    "\n",
    "print(\"Eng katta:\", eng_katta)\n",
    "print(\"Eng kichik:\", eng_kichik)\n",
    "print(\"O'rtacha:\", ortacha)\n"
   ]
  },
  {
   "cell_type": "markdown",
   "id": "845a57e9",
   "metadata": {},
   "source": [
    "#Parol yarating va kod yozing agar kod to'gri bolsa xush kelibsiz aks xolda parol xato deb ekranga chiqaring"
   ]
  },
  {
   "cell_type": "code",
   "execution_count": null,
   "id": "129bb285",
   "metadata": {},
   "outputs": [],
   "source": [
    "parol = \"1234abc\"  # xohlagan parol\n",
    "kiritilgan = input(\"1324abd\")\n",
    "\n",
    "if kiritilgan == parol:\n",
    "    print(\"Xush kelibsiz!\")\n",
    "else:\n",
    "    print(\"Parol xato!\")\n"
   ]
  }
 ],
 "metadata": {
  "kernelspec": {
   "display_name": "Python 3",
   "language": "python",
   "name": "python3"
  },
  "language_info": {
   "codemirror_mode": {
    "name": "ipython",
    "version": 3
   },
   "file_extension": ".py",
   "mimetype": "text/x-python",
   "name": "python",
   "nbconvert_exporter": "python",
   "pygments_lexer": "ipython3",
   "version": "3.9.6"
  }
 },
 "nbformat": 4,
 "nbformat_minor": 5
}
