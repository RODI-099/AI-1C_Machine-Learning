{
 "cells": [
  {
   "cell_type": "markdown",
   "metadata": {},
   "source": [
    "Supervised ML ga 2 ta misol\n",
    "Vazifa: Talabaning yakuniy bahosini uning imtihon natijalari asosida bashorat qilish.\n",
    "Ma’lumot:\n",
    "\n",
    "Kiruvchi (input): Darsga qatnashish foizi, oraliq imtihon bahosi\n",
    "Chiquvchi (output): Yakuniy baho (raqamli qiymat)\n",
    "\n",
    "Ma’lumotlar namunasi:\n",
    "\n",
    "Qatnashish (%)\tOraliq baho    \tYakuniy baho\n",
    "90\t              85\t           88\n",
    "60\t              70\t           72\n",
    "100\t              95\t           97\n",
    "\n",
    " 2-misol: Kasallikni aniqlash (Classification)\n",
    "Vazifa: Bemor simptomlariga qarab u kasalligini aniqlash (masalan, diabet bor yoki yo‘q).\n",
    "Ma’lumot:\n",
    "\n",
    "Kiruvchi (input): Qon bosimi, shakar miqdori, yosh\n",
    "Chiquvchi (output): Diabet bor / yo‘q (1 yoki 0)\n",
    "\n",
    "Qon bosimi\tShakar\tYosh\tDiabet\n",
    "120\t          90\t 45\t      1\n",
    "110\t          75\t 30\t      0\n",
    "135\t         100\t 50\t      1\n",
    "\n",
    "Unsupervised ML ga 2 ta misol\n",
    " 1-misol: Mijozlarni segmentlarga ajratish (Clustering)\n",
    "Vazifa: Do‘kondagi mijozlarni xarid qilish odatlari asosida guruhlarga ajratish.\n",
    "Ma’lumot:\n",
    "\n",
    "Kiruvchi (input): Har oy xarajat (so‘m), do‘kon tashriflari soni\n",
    "Chiquvchi (output): Hech qanday label yo‘q (model o‘zi guruhlarga ajratadi)\n",
    "Xarajat (so‘m)\tTashrif soni\n",
    "500_000         \t5\n",
    "1_200_000          12\n",
    "700_000\t            6\n",
    "3_000_000\t        20\n",
    "\n",
    "Reinforcement ML ga 2 ta misol\n",
    "\n",
    "1-misol: O‘yin o‘ynaydigan sun'iy intellekt (Game Playing AI)\n",
    "Vazifa: AI agent shaxmat yoki o‘yin o‘ynashni o‘rganadi.\n",
    "\n",
    "Agent: O‘yinchi (AI)\n",
    "Muhit: O‘yin doskasi\n",
    "Harakatlar: Yurish variantlari\n",
    "Mukofot: G‘alaba uchun +1, mag‘lubiyat uchun -1, durang uchun 0\n",
    "\n",
    "2-misol: Avtonom robot harakati (Robot Navigation)\n",
    "Vazifa: Robot to‘siqlar orasidan o‘tib, maqsadga yetib boradi.\n",
    "\n",
    "Agent: Robot\n",
    "Muhit: Xona yoki maydon (masalan, 2D grid)\n",
    "Harakatlar: Chap, o‘ng, yuqori, pastga yurish\n",
    "Mukofot: Maqsadga yetganda +10, devorga urilsa -5, har bir yurishda -1 (energiya sarfi)"
   ]
  },
  {
   "cell_type": "markdown",
   "metadata": {},
   "source": []
  },
  {
   "cell_type": "markdown",
   "metadata": {},
   "source": [
    "# Data types and operations"
   ]
  },
  {
   "cell_type": "code",
   "execution_count": null,
   "metadata": {},
   "outputs": [],
   "source": [
    "print('Hello, ')"
   ]
  },
  {
   "cell_type": "code",
   "execution_count": null,
   "metadata": {},
   "outputs": [],
   "source": []
  },
  {
   "cell_type": "code",
   "execution_count": null,
   "metadata": {},
   "outputs": [],
   "source": []
  }
 ],
 "metadata": {
  "kernelspec": {
   "display_name": "Python 3",
   "language": "python",
   "name": "python3"
  },
  "language_info": {
   "name": "python",
   "version": "3.9.6"
  }
 },
 "nbformat": 4,
 "nbformat_minor": 2
}
