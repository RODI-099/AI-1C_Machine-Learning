{
 "cells": [
  {
   "cell_type": "markdown",
   "metadata": {},
   "source": [
    "Supervised ML ga 2 ta misol\n",
    "Vazifa: Talabaning yakuniy bahosini uning imtihon natijalari asosida bashorat qilish.\n",
    "Ma’lumot:\n",
    "\n",
    "Kiruvchi (input): Darsga qatnashish foizi, oraliq imtihon bahosi\n",
    "Chiquvchi (output): Yakuniy baho (raqamli qiymat)\n",
    "\n",
    "Ma’lumotlar namunasi:\n",
    "\n",
    "Qatnashish (%)\tOraliq baho    \tYakuniy baho\n",
    "90\t              85\t           88\n",
    "60\t              70\t           72\n",
    "100\t              95\t           97\n",
    "\n",
    " 2-misol: Kasallikni aniqlash (Classification)\n",
    "Vazifa: Bemor simptomlariga qarab u kasalligini aniqlash (masalan, diabet bor yoki yo‘q).\n",
    "Ma’lumot:\n",
    "\n",
    "Kiruvchi (input): Qon bosimi, shakar miqdori, yosh\n",
    "Chiquvchi (output): Diabet bor / yo‘q (1 yoki 0)\n",
    "\n",
    "Qon bosimi\tShakar\tYosh\tDiabet\n",
    "120\t          90\t 45\t      1\n",
    "110\t          75\t 30\t      0\n",
    "135\t         100\t 50\t      1\n",
    "\n",
    "Unsupervised ML ga 2 ta misol\n",
    " 1-misol: Mijozlarni segmentlarga ajratish (Clustering)\n",
    "Vazifa: Do‘kondagi mijozlarni xarid qilish odatlari asosida guruhlarga ajratish.\n",
    "Ma’lumot:\n",
    "\n",
    "Kiruvchi (input): Har oy xarajat (so‘m), do‘kon tashriflari soni\n",
    "Chiquvchi (output): Hech qanday label yo‘q (model o‘zi guruhlarga ajratadi)\n",
    "Xarajat (so‘m)\tTashrif soni\n",
    "500_000         \t5\n",
    "1_200_000          12\n",
    "700_000\t            6\n",
    "3_000_000\t        20\n",
    "\n",
    "Reinforcement ML ga 2 ta misol\n",
    "\n",
    "1-misol: O‘yin o‘ynaydigan sun'iy intellekt (Game Playing AI)\n",
    "Vazifa: AI agent shaxmat yoki o‘yin o‘ynashni o‘rganadi.\n",
    "\n",
    "Agent: O‘yinchi (AI)\n",
    "Muhit: O‘yin doskasi\n",
    "Harakatlar: Yurish variantlari\n",
    "Mukofot: G‘alaba uchun +1, mag‘lubiyat uchun -1, durang uchun 0\n",
    "\n",
    "2-misol: Avtonom robot harakati (Robot Navigation)\n",
    "Vazifa: Robot to‘siqlar orasidan o‘tib, maqsadga yetib boradi.\n",
    "\n",
    "Agent: Robot\n",
    "Muhit: Xona yoki maydon (masalan, 2D grid)\n",
    "Harakatlar: Chap, o‘ng, yuqori, pastga yurish\n",
    "Mukofot: Maqsadga yetganda +10, devorga urilsa -5, har bir yurishda -1 (energiya sarfi)"
   ]
  },
  {
   "cell_type": "markdown",
   "metadata": {},
   "source": []
  },
  {
   "cell_type": "markdown",
   "metadata": {},
   "source": [
    "# Data types and operations"
   ]
  },
  {
   "cell_type": "code",
   "execution_count": null,
   "metadata": {},
   "outputs": [],
   "source": [
    "print('Hello, ')"
   ]
  },
  {
   "cell_type": "markdown",
   "metadata": {},
   "source": [
    "1-Savol \n",
    "Machine Learningni hayotimizda qayerlarda uchratish mumkin:\n",
    "Javob:\n",
    "ML hayotimizda uchraydigan holatlar Telfonimizdagi Face Id, YouTube, Instagramda ko`rgan videolarimizga o`xshagan videolar chiqishi shuningdek online savdo platformalarida harid qilgan narsamizga uxshagan takliflar berilishi.\n",
    "\n",
    "2-savol \n",
    "Oyin oynay oladigan dastur yaratgan olim kim?\n",
    "Javob:\n",
    "Artur Samuel\n",
    "\n",
    "3-savol\n",
    "Machine Learning qanday fan?\n",
    "Javob:\n",
    "Machine Learning (ML) — bu informatika (kompyuter fanlari) va matematikaning kesishgan joyidagi sun'iy intellekt sohasining bir tarmog‘i bo‘lib, kompyuterlar ma’lumotlardan o‘rganishi va tajriba asosida qaror qabul qilishiga imkon beradi.\n",
    "4-savol\n",
    "Tadqiqitlardan qaysi biri siz uchun eng qizigi bo`ldi?\n",
    "Javob: Men uchun eng qiziq tadqiqot bu inson miyyasi faoliyatiga taqlid qiladigan dastlabki neyron tarmoq dasturi bo`ldi.\n",
    "\n",
    "5-savol\n",
    "Nima uchun Machine Learning ni o`rganishimiz uchun dastlab human learning ni o`rganishimiz kerak?\n",
    "Javob:\n",
    "Machine Learning  — mashina insondek o‘rganishni o‘rganadi.\n",
    "Dastlabki sun’iy intellekt tadqiqotchilari inson miyasining qanday ishlashini o‘rganib, shunga o‘xshash tizimlar yaratishga harakat qilishgan. Agar biz inson qanday qilib o`rganishini tushunib olsak keyin mashina ham qanday qilib samaraliroq o`rganishini tushunamiz.\n",
    "\n",
    "6-savol\n",
    "O`rganish turlaridan qaysi biri eng muhim va nima uchun?\n",
    "Javob: Men uchun Ustoz bilan birgalikda profesional muhitda nazariy va amaliy bilimarni birlashtirib o`rganish."
   ]
  },
  {
   "cell_type": "code",
   "execution_count": null,
   "metadata": {},
   "outputs": [],
   "source": [
    "\n",
    "\n",
    "#%,//,/\n",
    "#(Markdown va comment farqi)\n",
    "# if/else/elif"
   ]
  },
  {
   "cell_type": "code",
   "execution_count": null,
   "metadata": {},
   "outputs": [],
   "source": [
    "a=7\n",
    "b=3\n",
    "# print(a/b)\n",
    "# print(a//b)\n",
    "print(a%b)"
   ]
  },
  {
   "cell_type": "markdown",
   "metadata": {},
   "source": [
    "DATA TYPES (INT,FLOAT,STR,BOOLEAN)"
   ]
  },
  {
   "cell_type": "code",
   "execution_count": null,
   "metadata": {},
   "outputs": [],
   "source": [
    "#Berilgan 2 xonali sonni birlar xonasidagi/10 lar xonasidagi raqamni toping\n",
    "#Berilgan 2 xonali sonni raqamlari o'rnini almashtirishdan xosil bo'lgan sonni toping(12,21)\n",
    "#Berilgan butun son musbat toq son\n",
    "#Berilgan so'zni birinchi xarfini toping\n",
    "#Ikki so'zdan gap xosil qiling\n",
    "#Agar berilgan so'z unli xarflaridan tashkil topganligini tekshiring(a,e,i,u,o)\n",
    "#Berilgan so'zni katta/kichik/odatiy xolatlarga keltiring\n",
    "a='Data'\n",
    "('a' or 'e' or 'i' or 'u' or 'o') in a \n",
    "\n",
    "a=a.upper()\n",
    "a\n",
    "b=a[-1].lower()\n",
    "a,b\n",
    "c='hello'\n",
    "c=c.title()\n",
    "c"
   ]
  },
  {
   "cell_type": "code",
   "execution_count": null,
   "metadata": {},
   "outputs": [],
   "source": [
    "a='data'\n",
    "a=a.upper()\n",
    "print(a)"
   ]
  },
  {
   "cell_type": "code",
   "execution_count": null,
   "metadata": {},
   "outputs": [],
   "source": [
    "a=a.lower()\n",
    "print(a)"
   ]
  },
  {
   "cell_type": "code",
   "execution_count": null,
   "metadata": {},
   "outputs": [],
   "source": [
    "a=a.title()\n",
    "a"
   ]
  },
  {
   "cell_type": "code",
   "execution_count": null,
   "metadata": {},
   "outputs": [],
   "source": [
    "#Berilgan 2 xonali sonni birlar xonasidagi/10 lar xonasidagi raqamni toping\n",
    "\n",
    "a=int(input('ikki xonali sonni kiriting:'))\n",
    "print('birlar xonasidagi raqam',a%10)"
   ]
  },
  {
   "cell_type": "code",
   "execution_count": null,
   "metadata": {},
   "outputs": [],
   "source": [
    "#Berilgan 2 xonali sonni birlar xonasidagi/10 lar xonasidagi raqamni toping\n",
    "\n",
    "a=int(input('ikki xonali sonni kiriting:'))\n",
    "print('birlar xonasidagi raqam:',a%10)\n",
    "print('onlar xonasidagi raqam:',a//10)"
   ]
  },
  {
   "cell_type": "code",
   "execution_count": null,
   "metadata": {},
   "outputs": [],
   "source": [
    "#Berilgan 2 xonali sonni raqamlari o'rnini almashtirishdan xosil bo'lgan sonni toping(12,21)\n",
    "a=int(input('ikki xonali sonni kiriting:'))\n",
    "# 12=1*10+2    12->21\n",
    "\n",
    "print('birlar xonasidagi raqam:',a%10)\n",
    "print('onlar xonasidagi raqam:',a//10)\n",
    "\n",
    "print('sonni teskarisiga yozganimizdagi son:',10*(a%10)+a//10)"
   ]
  },
  {
   "cell_type": "code",
   "execution_count": null,
   "metadata": {},
   "outputs": [],
   "source": [
    "#Berilgan butun son musbat toq son\n",
    "#True/False\n",
    "b=int(input('sonni kiriting:'))\n",
    "# ==--- ikki amalni bir biriga tengligini\n",
    "#!=--- ikki amalni bir biriga tengligini\n",
    "b>0 and b%2!=0"
   ]
  },
  {
   "cell_type": "code",
   "execution_count": null,
   "metadata": {},
   "outputs": [],
   "source": [
    "#Berilgan so'zni birinchi xarfini toping\n",
    "s='python'\n",
    "print('berilgan sozni birinchi xarfi:',s[0])\n",
    "print('berilgan sozni oxirgi xarfi:',s[5])\n",
    "print('berilgan sozni oxirgi xarfi:',s[-1])\n",
    "print('berilgan sozni oxirgi xarfi:',s[-2])"
   ]
  },
  {
   "cell_type": "code",
   "execution_count": null,
   "metadata": {},
   "outputs": [],
   "source": [
    "#Ikki so'zdan gap xosil qiling\n",
    "s='python'\n",
    "d='machine learning'\n",
    "print(s+' '+ d)"
   ]
  },
  {
   "cell_type": "code",
   "execution_count": null,
   "metadata": {},
   "outputs": [],
   "source": [
    "#Agar berilgan so'z unli xarflaridan tashkil topganligini tekshiring(a,e,i,u,o)\n",
    "s='python'\n",
    "('a' and 'e' and 'i' and  'u' and 'o') in s   # sababi birinchi kelganini qabul qiladi shuning uchun bunda and ni ishlatamiz"
   ]
  },
  {
   "cell_type": "markdown",
   "metadata": {},
   "source": [
    "\n",
    "Condition"
   ]
  },
  {
   "cell_type": "code",
   "execution_count": null,
   "metadata": {},
   "outputs": [],
   "source": [
    "#3 ball undan yuqori ball to'plaganlardan keyingi darslarga o'tishga ruxsat berilsin\n",
    "# <,>,<=,>=, ==,!=)\n",
    "a=int(input('Talaba balini kiriting:'))"
   ]
  },
  {
   "cell_type": "code",
   "execution_count": null,
   "metadata": {},
   "outputs": [],
   "source": [
    "#Berilgan butun sonni toq yoki juft ekanligini aniqlang \n",
    "#Berilgan butun sonni musbat yoki manfiy ekanligini aniqlang\n",
    "#Berilgan butun sonni musbat juft/ manfiy toq ekanligini aniqlang\n",
    "#Agar berilgan so'z unli xarflaridan tashkil topganligini tekshiring(a,e,i,u,o) va shunday bo'lsa ekranga unli xarf mavjud aks xolda unli xarflar mavjud emas degan yozuvni ekranga chiqaring\n",
    "# Berilgan so'z 3 ta xarfgacha  iborat bo'lsa qisqa 10 ta xarfgacha bo'lsa uzun undan ko'p bolsa juda uzun aks xolda xatolik deb ekranga chiqarilsin\n",
    "a=str(input('Sozni kiriting'))\n",
    "if 1 <= len(a) <= 3:\n",
    "    print('Qisqa')\n",
    "elif 4 <= len(a) < 10:\n",
    "    print('Uzun')\n",
    "elif len(a) >= 10:\n",
    "    print('Juda uzun')\n",
    "else:\n",
    "    print('xatolik bor!')"
   ]
  },
  {
   "cell_type": "code",
   "execution_count": null,
   "metadata": {},
   "outputs": [],
   "source": [
    "#Berilgan butun sonni toq yoki juft ekanligini aniqlang\n",
    "a=int(input('Sonni kiriting'))\n",
    "if a%2==0 :\n",
    "    print('a soni juft son')\n",
    "else:\n",
    "    print('a soni toq son')"
   ]
  },
  {
   "cell_type": "code",
   "execution_count": null,
   "metadata": {},
   "outputs": [],
   "source": [
    "#Berilgan butun sonni musbat yoki manfiy ekanligini aniqlang\n",
    "a=int(input('Sonni kiriting'))\n",
    "if a>0:\n",
    "    print('Musbat')\n",
    "else:\n",
    "    print('Manfiy')"
   ]
  },
  {
   "cell_type": "code",
   "execution_count": null,
   "metadata": {},
   "outputs": [],
   "source": [
    "#Agar talaba bali 3,4,5 bolsa imtixondan otsin aks xolda qayta topshirsin\n",
    "x=2\n",
    "           \n",
    "if x==3 or x==4 or x==5:\n",
    "    print('otdi')\n",
    "else:\n",
    "    print('qayta topshirish')"
   ]
  },
  {
   "cell_type": "code",
   "execution_count": null,
   "metadata": {},
   "outputs": [],
   "source": [
    "#Agar son musbat bolsa ekranga musbat , manfiy bolsa manfiy nolga teng bols nol deb ekranga chiqaring\n",
    "#Berilgan butun sonni musbat yoki manfiy ekanligini aniqlang\n",
    "a=int(input('Sonni kiriting'))\n",
    "if a>0:\n",
    "    print('Musbat')\n",
    "elif a<0:\n",
    "    print('Manfiy')\n",
    "else:\n",
    "    print('nol')"
   ]
  },
  {
   "cell_type": "markdown",
   "metadata": {},
   "source": [
    "#Berilgan sonni musbat toq/ manfiy juft ekanligi aniqlang va uni Booleanda tekshiring\n",
    "#Berilgan ikki xonali sonni raqamlarini yig'indisini toping\n",
    "#Berilgan 3 xonali sonni raqamlar yig'indisini toping \n",
    "#Berilgan 3 xonali sonni teskari tartibda yozilganini toping(Masalan:123->321)\n",
    "#Berilgan sozdagi xarflar soni juft bolsa juft so'zli deb aks xolda toq so'zli deb umuman xarflardan iborat bolmasa xatolik bor deb ekranga chiqaring\n",
    "#Berilgan sonni 10 va 50 oraligida ekanligini tekshiring\n",
    "#Berilgan sonni 10 va 50 oraligida ekanligini tekshiring va agar shunda bolsa togri aks xolda xato deb ekranga chiqaring\n",
    "#Agar parol 8 tadan kam belgi/sonlardan iborat bolsa kuchsiz aks xolda kuchli parol deb ekranga chiqaring\n",
    "#Berilgan 3 ta sondan eng kattasini/kichigini/o'rtachasini aniqlaydigan kod yozing\n",
    "#Parol yarating va kod yozing agar kod to'gri bolsa xush kelibsiz aks xolda parol xato deb ekranga chiqaring\n",
    "#Darsdani misollarni takrorlash \n"
   ]
  },
  {
   "cell_type": "code",
   "execution_count": null,
   "metadata": {},
   "outputs": [],
   "source": [
    "#Javob:\n",
    "son = int(input(\"Sonni kiriting: \"))\n",
    "if son > 0 and son % 2 == 1:\n",
    "    print(\"Musbat toq son\")\n",
    "elif son < 0 and son % 2 == 0:\n",
    "    print(\"Manfiy juft son\")\n",
    "else:\n",
    "    print(\"Shartga mos emas\")\n",
    "\n"
   ]
  },
  {
   "cell_type": "code",
   "execution_count": null,
   "metadata": {},
   "outputs": [],
   "source": [
    "son = int(input(\"Ikki xonali son kiriting: \"))\n",
    "birlik = son % 10\n",
    "onlik = son // 10\n",
    "print(\"Yig'indisi:\", birlik + onlik)\n"
   ]
  },
  {
   "cell_type": "code",
   "execution_count": null,
   "metadata": {},
   "outputs": [],
   "source": [
    "son = int(input(\"Uch xonali son kiriting: \"))\n",
    "birlik = son % 10\n",
    "onlik = (son // 10) % 10\n",
    "yuzlik = son // 100\n",
    "print(\"Yig'indisi:\", birlik + onlik + yuzlik)\n"
   ]
  },
  {
   "cell_type": "code",
   "execution_count": null,
   "metadata": {},
   "outputs": [],
   "source": [
    "son = int(input(\"Uch xonali son kiriting: \"))\n",
    "birlik = son % 10\n",
    "onlik = (son // 10) % 10\n",
    "yuzlik = son // 100\n",
    "print(\"Teskari:\", f\"{birlik}{onlik}{yuzlik}\")\n"
   ]
  },
  {
   "cell_type": "code",
   "execution_count": null,
   "metadata": {},
   "outputs": [],
   "source": []
  }
 ],
 "metadata": {
  "kernelspec": {
   "display_name": "Python 3",
   "language": "python",
   "name": "python3"
  },
  "language_info": {
   "name": "python",
   "version": "3.9.6"
  }
 },
 "nbformat": 4,
 "nbformat_minor": 2
}
